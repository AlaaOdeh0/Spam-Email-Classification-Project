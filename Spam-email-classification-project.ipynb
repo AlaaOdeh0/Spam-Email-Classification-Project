{
 "cells": [
  {
   "cell_type": "markdown",
   "id": "b110178d",
   "metadata": {},
   "source": [
    "' Spam Email Classification Project '"
   ]
  },
  {
   "cell_type": "markdown",
   "id": "d99174ed",
   "metadata": {},
   "source": [
    "Intro:\n",
    "\n",
    "This project aims to classify emails as spam or ham (non-spam) using a Convolutional Neural Network (CNN) model. The dataset used includes spam emails, easy ham, and hard ham emails from the SpamAssassin Public Corpus.\n"
   ]
  },
  {
   "cell_type": "markdown",
   "id": "afecb224",
   "metadata": {},
   "source": [
    "1. Import libraries, modules and functions "
   ]
  },
  {
   "cell_type": "code",
   "execution_count": 154,
   "id": "9d30960f",
   "metadata": {},
   "outputs": [],
   "source": [
    "import os  #This module provides functions to interact with OS, such as manipulating files and directories\n",
    "import urllib.request  #Use this module to accesse URLs(open and interact with it,fetching data) and to access resources on the internet\n",
    "import tarfile         #work with both compressed and uncompressed tar files.\n",
    "import shutil  #Use this to managing entire directories like copying and removing directories and their contents.\n",
    "import numpy as np    #numpy=library\n",
    "import glob  #This is useful for retrieving file and directory names that match a specified pattern.\n",
    "import pandas as pd\n",
    "from sklearn.model_selection import train_test_split\n",
    "from sklearn.utils import shuffle    #This fun. used to shuffle/mix the order of elements in an array \n",
    "#sklearn==library, utils==module,  shuffle==function\n",
    "import tensorflow as tf\n",
    "from tensorflow.keras.preprocessing.text import Tokenizer  #Tokenizer=class, tensorflow.keras.preprocessing.text=module ==> This for preparing text data\n",
    "#Tokenizer class used to convert text into sequences of tokens\n",
    "from tensorflow.keras.preprocessing.sequence import pad_sequences\n",
    "#pad_sequences function is used to ensure that all sequences in a dataset have the same length by padding shorter sequences and truncating longer ones.\n",
    "#This is important because neural networks typically require fixed-length inputs.\n",
    "from tensorflow.keras.models import Sequential \n",
    "#The Sequential class is to build and stack layers to create neural network models.\n",
    "from tensorflow.keras.layers import Embedding, Conv1D, MaxPooling1D, GlobalMaxPooling1D, Dense, Dropout\n",
    "import re"
   ]
  },
  {
   "cell_type": "markdown",
   "id": "caf3fd5a",
   "metadata": {},
   "source": [
    "2. Load the data"
   ]
  },
  {
   "cell_type": "code",
   "execution_count": 155,
   "id": "7fbd9d12",
   "metadata": {},
   "outputs": [],
   "source": [
    "# Directories for data\n",
    "DATASETS_DIR = 'datasets'\n",
    "TAR_DIR = os.path.join(DATASETS_DIR, 'tar')"
   ]
  },
  {
   "cell_type": "code",
   "execution_count": 156,
   "id": "f2e65823",
   "metadata": {},
   "outputs": [],
   "source": [
    "# URLs for SpamAssassin datasets\n",
    "SPAM_URL = 'https://spamassassin.apache.org/old/publiccorpus/20050311_spam_2.tar.bz2'\n",
    "EASY_HAM_URL = 'https://spamassassin.apache.org/old/publiccorpus/20030228_easy_ham_2.tar.bz2'\n",
    "HARD_HAM_URL = 'https://spamassassin.apache.org/old/publiccorpus/20030228_hard_ham.tar.bz2'\n"
   ]
  },
  {
   "cell_type": "code",
   "execution_count": 157,
   "id": "cef71c25",
   "metadata": {},
   "outputs": [],
   "source": [
    "def download_and_extract_dataset(url):\n",
    "    \"\"\"Download and extract dataset from the given URL.\"\"\"\n",
    "    if not os.path.isdir(TAR_DIR):\n",
    "        os.makedirs(TAR_DIR)\n",
    "    \n",
    "    filename = url.rsplit('/', 1)[-1]\n",
    "    tarpath = os.path.join(TAR_DIR, filename)\n",
    "    \n",
    "    if not os.path.exists(tarpath):\n",
    "        urllib.request.urlretrieve(url, tarpath)\n",
    "    \n",
    "    with tarfile.open(tarpath, 'r:bz2') as tar:\n",
    "        dirname = os.path.join(DATASETS_DIR, tar.getnames()[0])\n",
    "        if os.path.isdir(dirname):\n",
    "            shutil.rmtree(dirname)\n",
    "        tar.extractall(path=DATASETS_DIR)\n",
    "        \n",
    "        cmds_path = os.path.join(dirname, 'cmds')\n",
    "        if os.path.isfile(cmds_path):\n",
    "            os.remove(cmds_path)\n",
    "    \n",
    "    return dirname"
   ]
  },
  {
   "cell_type": "code",
   "execution_count": 158,
   "id": "dbd8b262",
   "metadata": {},
   "outputs": [],
   "source": [
    "# Download and extract datasets\n",
    "spam_dir = download_and_extract_dataset(SPAM_URL)\n",
    "easy_ham_dir = download_and_extract_dataset(EASY_HAM_URL)\n",
    "hard_ham_dir = download_and_extract_dataset(HARD_HAM_URL)"
   ]
  },
  {
   "cell_type": "code",
   "execution_count": 159,
   "id": "2e33aaf6",
   "metadata": {},
   "outputs": [],
   "source": [
    "def load_dataset(dirpath):\n",
    "    \"\"\"Load emails from the specified directory.\"\"\"\n",
    "    files = []\n",
    "    filepaths = glob.glob(dirpath + '/*')\n",
    "    for path in filepaths:\n",
    "        with open(path, 'rb') as f:\n",
    "            byte_content = f.read()\n",
    "            str_content = byte_content.decode('utf-8', errors='ignore')\n",
    "            files.append(str_content)\n",
    "    return files"
   ]
  },
  {
   "cell_type": "code",
   "execution_count": 160,
   "id": "fe62d3e9",
   "metadata": {},
   "outputs": [],
   "source": [
    "# Load datasets into Pandas DataFrame\n",
    "spam = load_dataset(spam_dir)       # Spam emails are unsolicited and often irrelevant messages \n",
    "easy_ham = load_dataset(easy_ham_dir)  #Easy ham refers to legitimate, non-spam emails that are relatively straightforward for spam filters to identify as such\n",
    "hard_ham = load_dataset(hard_ham_dir)\n",
    "#Hard ham refers to legitimate emails that are more challenging for spam filters to identify correctly\n",
    "#These emails may contain some features that are similar to spam, making them harder to distinguish from spam emails."
   ]
  },
  {
   "cell_type": "code",
   "execution_count": 161,
   "id": "688496a0",
   "metadata": {},
   "outputs": [],
   "source": [
    "spam_df = pd.DataFrame(spam, columns=['email'])\n",
    "easy_ham_df = pd.DataFrame(easy_ham, columns=['email'])\n",
    "hard_ham_df = pd.DataFrame(hard_ham, columns=['email'])"
   ]
  },
  {
   "cell_type": "code",
   "execution_count": 106,
   "id": "178a631b",
   "metadata": {},
   "outputs": [
    {
     "data": {
      "text/plain": [
       "1396"
      ]
     },
     "execution_count": 106,
     "metadata": {},
     "output_type": "execute_result"
    }
   ],
   "source": [
    "len(spam_df)"
   ]
  },
  {
   "cell_type": "code",
   "execution_count": 107,
   "id": "e1363ca6",
   "metadata": {},
   "outputs": [
    {
     "data": {
      "text/plain": [
       "1400"
      ]
     },
     "execution_count": 107,
     "metadata": {},
     "output_type": "execute_result"
    }
   ],
   "source": [
    "len(easy_ham_df)"
   ]
  },
  {
   "cell_type": "code",
   "execution_count": 108,
   "id": "6d0c5da9",
   "metadata": {},
   "outputs": [
    {
     "data": {
      "text/plain": [
       "250"
      ]
     },
     "execution_count": 108,
     "metadata": {},
     "output_type": "execute_result"
    }
   ],
   "source": [
    "len(hard_ham_df)"
   ]
  },
  {
   "cell_type": "code",
   "execution_count": 109,
   "id": "ecdf931d",
   "metadata": {},
   "outputs": [
    {
     "data": {
      "text/html": [
       "<div>\n",
       "<style scoped>\n",
       "    .dataframe tbody tr th:only-of-type {\n",
       "        vertical-align: middle;\n",
       "    }\n",
       "\n",
       "    .dataframe tbody tr th {\n",
       "        vertical-align: top;\n",
       "    }\n",
       "\n",
       "    .dataframe thead th {\n",
       "        text-align: right;\n",
       "    }\n",
       "</style>\n",
       "<table border=\"1\" class=\"dataframe\">\n",
       "  <thead>\n",
       "    <tr style=\"text-align: right;\">\n",
       "      <th></th>\n",
       "      <th>email</th>\n",
       "    </tr>\n",
       "  </thead>\n",
       "  <tbody>\n",
       "    <tr>\n",
       "      <th>0</th>\n",
       "      <td>Return-Path: Fool@motleyfool.com\\nDelivery-Dat...</td>\n",
       "    </tr>\n",
       "    <tr>\n",
       "      <th>1</th>\n",
       "      <td>Return-Path: &lt;malcolm-sweeps@mrichi.com&gt;\\nDeli...</td>\n",
       "    </tr>\n",
       "    <tr>\n",
       "      <th>2</th>\n",
       "      <td>From nic@starflung.com  Mon Jun 24 17:06:54 20...</td>\n",
       "    </tr>\n",
       "    <tr>\n",
       "      <th>3</th>\n",
       "      <td>Received: from bran.mc.mpls.visi.com (bran.mc....</td>\n",
       "    </tr>\n",
       "    <tr>\n",
       "      <th>4</th>\n",
       "      <td>Return-Path: &lt;iso17799@securityrisk.co.uk&gt;\\nRe...</td>\n",
       "    </tr>\n",
       "    <tr>\n",
       "      <th>...</th>\n",
       "      <td>...</td>\n",
       "    </tr>\n",
       "    <tr>\n",
       "      <th>245</th>\n",
       "      <td>From senews-nov@euromailer.lists.apple.com  Th...</td>\n",
       "    </tr>\n",
       "    <tr>\n",
       "      <th>246</th>\n",
       "      <td>From imho@eircom.net  Thu Nov 28 11:41:56 2002...</td>\n",
       "    </tr>\n",
       "    <tr>\n",
       "      <th>247</th>\n",
       "      <td>From bounce-neatnettricks-2424157@silver.lyris...</td>\n",
       "    </tr>\n",
       "    <tr>\n",
       "      <th>248</th>\n",
       "      <td>From owner-nolist-seg25187*jm-cuteftp**JMASON*...</td>\n",
       "    </tr>\n",
       "    <tr>\n",
       "      <th>249</th>\n",
       "      <td>From sporadic@fuckedcompany.com  Wed Oct 30 21...</td>\n",
       "    </tr>\n",
       "  </tbody>\n",
       "</table>\n",
       "<p>250 rows × 1 columns</p>\n",
       "</div>"
      ],
      "text/plain": [
       "                                                 email\n",
       "0    Return-Path: Fool@motleyfool.com\\nDelivery-Dat...\n",
       "1    Return-Path: <malcolm-sweeps@mrichi.com>\\nDeli...\n",
       "2    From nic@starflung.com  Mon Jun 24 17:06:54 20...\n",
       "3    Received: from bran.mc.mpls.visi.com (bran.mc....\n",
       "4    Return-Path: <iso17799@securityrisk.co.uk>\\nRe...\n",
       "..                                                 ...\n",
       "245  From senews-nov@euromailer.lists.apple.com  Th...\n",
       "246  From imho@eircom.net  Thu Nov 28 11:41:56 2002...\n",
       "247  From bounce-neatnettricks-2424157@silver.lyris...\n",
       "248  From owner-nolist-seg25187*jm-cuteftp**JMASON*...\n",
       "249  From sporadic@fuckedcompany.com  Wed Oct 30 21...\n",
       "\n",
       "[250 rows x 1 columns]"
      ]
     },
     "execution_count": 109,
     "metadata": {},
     "output_type": "execute_result"
    }
   ],
   "source": [
    "hard_ham_df"
   ]
  },
  {
   "cell_type": "code",
   "execution_count": 162,
   "id": "6d9495e6",
   "metadata": {},
   "outputs": [],
   "source": [
    "# Combine into a single DataFrame\n",
    "spam_df['label'] = 1\n",
    "easy_ham_df['label'] = 0\n",
    "hard_ham_df['label'] = 0"
   ]
  },
  {
   "cell_type": "code",
   "execution_count": 163,
   "id": "949377f3",
   "metadata": {},
   "outputs": [],
   "source": [
    "df = pd.concat([spam_df, easy_ham_df, hard_ham_df], ignore_index=True)   #This concatenation operation is used to combine multiple DataFrames into a single DataFrame with new index."
   ]
  },
  {
   "cell_type": "code",
   "execution_count": 164,
   "id": "0bdcba98",
   "metadata": {},
   "outputs": [],
   "source": [
    "df = shuffle(df, random_state=42).reset_index(drop=True)  #The shuffle function is used to randomly shuffle the rows of a DataFrame."
   ]
  },
  {
   "cell_type": "code",
   "execution_count": 113,
   "id": "e7e094d7",
   "metadata": {},
   "outputs": [
    {
     "data": {
      "text/html": [
       "<div>\n",
       "<style scoped>\n",
       "    .dataframe tbody tr th:only-of-type {\n",
       "        vertical-align: middle;\n",
       "    }\n",
       "\n",
       "    .dataframe tbody tr th {\n",
       "        vertical-align: top;\n",
       "    }\n",
       "\n",
       "    .dataframe thead th {\n",
       "        text-align: right;\n",
       "    }\n",
       "</style>\n",
       "<table border=\"1\" class=\"dataframe\">\n",
       "  <thead>\n",
       "    <tr style=\"text-align: right;\">\n",
       "      <th></th>\n",
       "      <th>email</th>\n",
       "      <th>label</th>\n",
       "    </tr>\n",
       "  </thead>\n",
       "  <tbody>\n",
       "    <tr>\n",
       "      <th>0</th>\n",
       "      <td>Received: from hq.pro-ns.net (localhost [127.0...</td>\n",
       "      <td>1</td>\n",
       "    </tr>\n",
       "    <tr>\n",
       "      <th>1</th>\n",
       "      <td>From bjchadwick@eudoramail.com  Mon Jun 24 17:...</td>\n",
       "      <td>1</td>\n",
       "    </tr>\n",
       "    <tr>\n",
       "      <th>2</th>\n",
       "      <td>From fork-admin@xent.com  Wed Jul 24 13:20:12 ...</td>\n",
       "      <td>0</td>\n",
       "    </tr>\n",
       "    <tr>\n",
       "      <th>3</th>\n",
       "      <td>From Jacquiro@tjohoo.se  Sun Dec  1 16:14:33 2...</td>\n",
       "      <td>1</td>\n",
       "    </tr>\n",
       "    <tr>\n",
       "      <th>4</th>\n",
       "      <td>From fork-admin@xent.com  Wed Jul 24 12:11:00 ...</td>\n",
       "      <td>0</td>\n",
       "    </tr>\n",
       "    <tr>\n",
       "      <th>...</th>\n",
       "      <td>...</td>\n",
       "      <td>...</td>\n",
       "    </tr>\n",
       "    <tr>\n",
       "      <th>3041</th>\n",
       "      <td>From ilug-admin@linux.ie  Tue Aug  6 11:51:25 ...</td>\n",
       "      <td>0</td>\n",
       "    </tr>\n",
       "    <tr>\n",
       "      <th>3042</th>\n",
       "      <td>From taxfree7550288@yahoo.com  Fri Jul 26 08:1...</td>\n",
       "      <td>1</td>\n",
       "    </tr>\n",
       "    <tr>\n",
       "      <th>3043</th>\n",
       "      <td>From gort44@excite.com  Mon Jul 29 11:40:11 20...</td>\n",
       "      <td>1</td>\n",
       "    </tr>\n",
       "    <tr>\n",
       "      <th>3044</th>\n",
       "      <td>From gyiskcnvbfc@msn.com  Tue Aug  6 11:04:46 ...</td>\n",
       "      <td>1</td>\n",
       "    </tr>\n",
       "    <tr>\n",
       "      <th>3045</th>\n",
       "      <td>From rory007460171i01@edtnmail.com  Tue Jul 23...</td>\n",
       "      <td>1</td>\n",
       "    </tr>\n",
       "  </tbody>\n",
       "</table>\n",
       "<p>3046 rows × 2 columns</p>\n",
       "</div>"
      ],
      "text/plain": [
       "                                                  email  label\n",
       "0     Received: from hq.pro-ns.net (localhost [127.0...      1\n",
       "1     From bjchadwick@eudoramail.com  Mon Jun 24 17:...      1\n",
       "2     From fork-admin@xent.com  Wed Jul 24 13:20:12 ...      0\n",
       "3     From Jacquiro@tjohoo.se  Sun Dec  1 16:14:33 2...      1\n",
       "4     From fork-admin@xent.com  Wed Jul 24 12:11:00 ...      0\n",
       "...                                                 ...    ...\n",
       "3041  From ilug-admin@linux.ie  Tue Aug  6 11:51:25 ...      0\n",
       "3042  From taxfree7550288@yahoo.com  Fri Jul 26 08:1...      1\n",
       "3043  From gort44@excite.com  Mon Jul 29 11:40:11 20...      1\n",
       "3044  From gyiskcnvbfc@msn.com  Tue Aug  6 11:04:46 ...      1\n",
       "3045  From rory007460171i01@edtnmail.com  Tue Jul 23...      1\n",
       "\n",
       "[3046 rows x 2 columns]"
      ]
     },
     "execution_count": 113,
     "metadata": {},
     "output_type": "execute_result"
    }
   ],
   "source": [
    "df"
   ]
  },
  {
   "cell_type": "markdown",
   "id": "1ac89662",
   "metadata": {},
   "source": [
    "3. Split data"
   ]
  },
  {
   "cell_type": "code",
   "execution_count": 165,
   "id": "50b37b72",
   "metadata": {},
   "outputs": [],
   "source": [
    "# Split the data into stratified training and test sets\n",
    "X = df['email'].values  #Extract the email content(feature) from the DataFrame and converts it into a NumPy array (X)\n",
    "y = df['label'].values  #Extract labels(target) from the df and converts it into a NumPy array (y)."
   ]
  },
  {
   "cell_type": "code",
   "execution_count": 166,
   "id": "b685b336",
   "metadata": {},
   "outputs": [],
   "source": [
    "X_train, X_test, y_train, y_test = train_test_split(X, y, test_size=0.2, stratify=y, random_state=42)\n",
    "#This function splits X and y into random train and test subsets."
   ]
  },
  {
   "cell_type": "code",
   "execution_count": 167,
   "id": "db2f2231",
   "metadata": {},
   "outputs": [],
   "source": [
    "# Define email cleaning functions\n",
    "def remove_header(email):\n",
    "    \"\"\"Remove the header from an email.\"\"\"\n",
    "    return email[email.index('\\n\\n'):] if '\\n\\n' in email else email\n"
   ]
  },
  {
   "cell_type": "code",
   "execution_count": 168,
   "id": "fc9abf3f",
   "metadata": {},
   "outputs": [],
   "source": [
    "def is_url(s):\n",
    "    url = re.match(\"http[s]?://(?:[a-zA-Z]|[0-9]|[$-_@.&+]|\"\n",
    "                     \"[!*\\(\\), ]|(?:%[0-9a-fA-F][0-9a-fA-F]))+\", s)\n",
    "    return url is not None"
   ]
  },
  {
   "cell_type": "code",
   "execution_count": 169,
   "id": "93a39870",
   "metadata": {},
   "outputs": [],
   "source": [
    "def convert_url_to_word(words):\n",
    "    \"\"\"Convert all URLs in the list to the word 'URL'.\"\"\"\n",
    "    for i, word in enumerate(words):\n",
    "        if is_url(word):\n",
    "            words[i] = 'URL'\n",
    "    return words"
   ]
  },
  {
   "cell_type": "code",
   "execution_count": 170,
   "id": "c62686c9",
   "metadata": {},
   "outputs": [],
   "source": [
    "def convert_num_to_word(words):\n",
    "    \"\"\"Convert all numbers in the list to the word 'NUM'.\"\"\"\n",
    "    for i, word in enumerate(words):\n",
    "        if word.isdigit():\n",
    "            words[i] = 'NUM'\n",
    "    return words"
   ]
  },
  {
   "cell_type": "code",
   "execution_count": 171,
   "id": "a7895365",
   "metadata": {},
   "outputs": [],
   "source": [
    "def remove_punctuation(email):\n",
    "    return ''.join([c if c.isalnum() or c.isspace() else ' ' for c in email])\n"
   ]
  },
  {
   "cell_type": "code",
   "execution_count": 172,
   "id": "846730b0",
   "metadata": {},
   "outputs": [],
   "source": [
    "# Email cleaning pipeline as a class\n",
    "class CleanEmails:\n",
    "    def __init__(self, no_header=True, to_lowercase=True, url_to_word=True, num_to_word=True, remove_punc=True):\n",
    "        self.no_header = no_header\n",
    "        self.to_lowercase = to_lowercase\n",
    "        self.url_to_word = url_to_word\n",
    "        self.num_to_word = num_to_word\n",
    "        self.remove_punc = remove_punc\n",
    "    \n",
    "    def fit(self, X, y=None):\n",
    "        return self\n",
    "    \n",
    "    def transform(self, X, y=None):\n",
    "        X_cleaned = []\n",
    "        for email in X:\n",
    "            if self.no_header:\n",
    "                email = remove_header(email)\n",
    "            if self.to_lowercase:\n",
    "                email = email.lower()\n",
    "            \n",
    "            email_words = email.split()\n",
    "            if self.url_to_word:\n",
    "                email_words = convert_url_to_word(email_words)\n",
    "            if self.num_to_word:\n",
    "                email_words = convert_num_to_word(email_words)\n",
    "            email = ' '.join(email_words)\n",
    "            if self.remove_punc:\n",
    "                email = remove_punctuation(email)\n",
    "            X_cleaned.append(email)\n",
    "        return X_cleaned"
   ]
  },
  {
   "cell_type": "markdown",
   "id": "534ff65f",
   "metadata": {},
   "source": [
    "3. Clean the data"
   ]
  },
  {
   "cell_type": "code",
   "execution_count": 173,
   "id": "acc617ce",
   "metadata": {},
   "outputs": [],
   "source": [
    "# Apply the cleaning pipeline\n",
    "cleaner = CleanEmails()\n",
    "X_train_clean = cleaner.transform(X_train)\n",
    "X_test_clean = cleaner.transform(X_test)"
   ]
  },
  {
   "cell_type": "markdown",
   "id": "7bc24663",
   "metadata": {},
   "source": [
    "##Text Tokenization and Padding"
   ]
  },
  {
   "cell_type": "code",
   "execution_count": 174,
   "id": "373c3788",
   "metadata": {},
   "outputs": [],
   "source": [
    "# Tokenize and pad sequences\n",
    "tokenizer = Tokenizer(num_words=10000, oov_token='<OOV>') #Initialize Tokenizer\n",
    "tokenizer.fit_on_texts(X_train_clean)   #Fit Tokenizer on Training Data\n",
    "\n",
    "#Convert Texts to Sequences\n",
    "#converts each text to a sequence of integers, where each integer corresponds to a token in the tokenizer's word index\n",
    "X_train_seq = tokenizer.texts_to_sequences(X_train_clean)\n",
    "X_test_seq = tokenizer.texts_to_sequences(X_test_clean)"
   ]
  },
  {
   "cell_type": "code",
   "execution_count": 132,
   "id": "7e632811",
   "metadata": {},
   "outputs": [
    {
     "data": {
      "text/plain": [
       "[3635,\n",
       " 24,\n",
       " 245,\n",
       " 438,\n",
       " 379,\n",
       " 7979,\n",
       " 138,\n",
       " 24,\n",
       " 290,\n",
       " 61,\n",
       " 7,\n",
       " 318,\n",
       " 40,\n",
       " 773,\n",
       " 47,\n",
       " 43,\n",
       " 1731,\n",
       " 555,\n",
       " 1342,\n",
       " 7,\n",
       " 43,\n",
       " 1325,\n",
       " 883,\n",
       " 1,\n",
       " 171,\n",
       " 52,\n",
       " 1601,\n",
       " 161,\n",
       " 2,\n",
       " 4191,\n",
       " 4029,\n",
       " 27,\n",
       " 1,\n",
       " 16,\n",
       " 6250,\n",
       " 16,\n",
       " 24,\n",
       " 144,\n",
       " 1,\n",
       " 3642,\n",
       " 506,\n",
       " 171,\n",
       " 1086,\n",
       " 43,\n",
       " 70,\n",
       " 651,\n",
       " 175,\n",
       " 57,\n",
       " 1066,\n",
       " 19,\n",
       " 4625,\n",
       " 211,\n",
       " 7591,\n",
       " 5797,\n",
       " 250,\n",
       " 411,\n",
       " 36,\n",
       " 729,\n",
       " 36,\n",
       " 71,\n",
       " 769,\n",
       " 7,\n",
       " 403,\n",
       " 120,\n",
       " 151,\n",
       " 209,\n",
       " 224,\n",
       " 403,\n",
       " 1745,\n",
       " 36,\n",
       " 3584,\n",
       " 2942,\n",
       " 1238,\n",
       " 3686,\n",
       " 47,\n",
       " 1452,\n",
       " 669,\n",
       " 345,\n",
       " 36,\n",
       " 77,\n",
       " 49,\n",
       " 1214,\n",
       " 1,\n",
       " 1269,\n",
       " 8250,\n",
       " 6250,\n",
       " 1696,\n",
       " 41,\n",
       " 32,\n",
       " 2,\n",
       " 298,\n",
       " 1192,\n",
       " 737,\n",
       " 24,\n",
       " 245,\n",
       " 179,\n",
       " 2802,\n",
       " 128,\n",
       " 5,\n",
       " 392,\n",
       " 647,\n",
       " 27,\n",
       " 2,\n",
       " 1544,\n",
       " 17,\n",
       " 780,\n",
       " 124,\n",
       " 106,\n",
       " 608,\n",
       " 1545,\n",
       " 41,\n",
       " 479,\n",
       " 8371,\n",
       " 7,\n",
       " 4861,\n",
       " 118,\n",
       " 73,\n",
       " 43,\n",
       " 900,\n",
       " 145,\n",
       " 1828,\n",
       " 77,\n",
       " 85,\n",
       " 41,\n",
       " 32,\n",
       " 7,\n",
       " 5161,\n",
       " 417,\n",
       " 77,\n",
       " 5,\n",
       " 6236,\n",
       " 43,\n",
       " 32,\n",
       " 7979,\n",
       " 137,\n",
       " 265,\n",
       " 20,\n",
       " 82,\n",
       " 117,\n",
       " 555,\n",
       " 629,\n",
       " 72,\n",
       " 1522,\n",
       " 20,\n",
       " 273,\n",
       " 2547,\n",
       " 386,\n",
       " 120,\n",
       " 166,\n",
       " 260,\n",
       " 403,\n",
       " 120,\n",
       " 151,\n",
       " 35,\n",
       " 27,\n",
       " 409,\n",
       " 239,\n",
       " 133,\n",
       " 98,\n",
       " 451,\n",
       " 455,\n",
       " 120,\n",
       " 151,\n",
       " 386,\n",
       " 120,\n",
       " 166,\n",
       " 260,\n",
       " 403,\n",
       " 120,\n",
       " 151,\n",
       " 35,\n",
       " 27,\n",
       " 409,\n",
       " 239,\n",
       " 133,\n",
       " 98,\n",
       " 451,\n",
       " 455,\n",
       " 120,\n",
       " 151]"
      ]
     },
     "execution_count": 132,
     "metadata": {},
     "output_type": "execute_result"
    }
   ],
   "source": [
    "X_test_seq[20]"
   ]
  },
  {
   "cell_type": "code",
   "execution_count": 175,
   "id": "2666cd8b",
   "metadata": {},
   "outputs": [],
   "source": [
    "max_length = 200\n",
    "X_train_pad = pad_sequences(X_train_seq, maxlen=max_length, padding='post', truncating='post')\n",
    "X_test_pad = pad_sequences(X_test_seq, maxlen=max_length, padding='post', truncating='post')"
   ]
  },
  {
   "cell_type": "code",
   "execution_count": 135,
   "id": "cf9fe7ed",
   "metadata": {},
   "outputs": [
    {
     "data": {
      "text/plain": [
       "array([[  59,  172,  127, ..., 4207,  372,   40],\n",
       "       [  47,  699,  612, ...,    2,    1,  371],\n",
       "       [ 882,  169,   24, ...,  263,   52, 4736],\n",
       "       ...,\n",
       "       [  65,  866,   47, ...,    0,    0,    0],\n",
       "       [ 146,  318,  140, ...,  355,   27,  748],\n",
       "       [  57, 5428,    1, ...,    0,    0,    0]])"
      ]
     },
     "execution_count": 135,
     "metadata": {},
     "output_type": "execute_result"
    }
   ],
   "source": [
    "X_test_pad"
   ]
  },
  {
   "cell_type": "markdown",
   "id": "c54565f7",
   "metadata": {},
   "source": [
    "4. Build Deep Learning Model"
   ]
  },
  {
   "cell_type": "code",
   "execution_count": 203,
   "id": "bb2572d6",
   "metadata": {},
   "outputs": [],
   "source": [
    "# Build the CNN model for text classification using Keras (tensorflow.keras)\n",
    "model = Sequential([             \n",
    "    Embedding(10000, 128, input_length=max_length),   # Embedding layer\n",
    "    Conv1D(128, 5, activation='relu'),                # 1st Conv1D layer\n",
    "    MaxPooling1D(pool_size=2),                        # MaxPooling1D layer\n",
    "    Conv1D(128, 5, activation='relu'),                # 2nd Conv1D layer\n",
    "    GlobalMaxPooling1D(),                             # GlobalMaxPooling1D layer\n",
    "    Dense(128, activation='relu'),                    # Dense layer with ReLU activation\n",
    "    Dropout(0.5),                                     # Dropout layer\n",
    "    Dense(1, activation='sigmoid')                    # Output layer with Sigmoid activation\n",
    "])"
   ]
  },
  {
   "cell_type": "code",
   "execution_count": 137,
   "id": "854561c1",
   "metadata": {},
   "outputs": [
    {
     "name": "stdout",
     "output_type": "stream",
     "text": [
      "Model: \"sequential_4\"\n",
      "_________________________________________________________________\n",
      " Layer (type)                Output Shape              Param #   \n",
      "=================================================================\n",
      " embedding_4 (Embedding)     (None, 200, 128)          1280000   \n",
      "                                                                 \n",
      " conv1d_8 (Conv1D)           (None, 196, 128)          82048     \n",
      "                                                                 \n",
      " max_pooling1d_4 (MaxPoolin  (None, 98, 128)           0         \n",
      " g1D)                                                            \n",
      "                                                                 \n",
      " conv1d_9 (Conv1D)           (None, 94, 128)           82048     \n",
      "                                                                 \n",
      " global_max_pooling1d_4 (Gl  (None, 128)               0         \n",
      " obalMaxPooling1D)                                               \n",
      "                                                                 \n",
      " dense_8 (Dense)             (None, 128)               16512     \n",
      "                                                                 \n",
      " dropout_4 (Dropout)         (None, 128)               0         \n",
      "                                                                 \n",
      " dense_9 (Dense)             (None, 1)                 129       \n",
      "                                                                 \n",
      "=================================================================\n",
      "Total params: 1460737 (5.57 MB)\n",
      "Trainable params: 1460737 (5.57 MB)\n",
      "Non-trainable params: 0 (0.00 Byte)\n",
      "_________________________________________________________________\n"
     ]
    }
   ],
   "source": [
    "model.summary()"
   ]
  },
  {
   "cell_type": "code",
   "execution_count": 204,
   "id": "e5bf617e",
   "metadata": {},
   "outputs": [],
   "source": [
    "# Compile the model\n",
    "model.compile(optimizer='adam', loss='binary_crossentropy', metrics=['accuracy'])\n",
    "#Compiling the model in Keras involves setting up the optimizer, loss function, and metrics for training\n",
    "#Optimizers are algorithms that update the weights of the neural network during training to minimize the loss function.\n",
    "#The loss function computes the difference between the predicted outputs and the actual targets during training.\n",
    "#Metrics are used to evaluate the performance of the model."
   ]
  },
  {
   "cell_type": "markdown",
   "id": "9efe093c",
   "metadata": {},
   "source": [
    "5. Train"
   ]
  },
  {
   "cell_type": "code",
   "execution_count": 205,
   "id": "eaa7822e",
   "metadata": {},
   "outputs": [
    {
     "name": "stdout",
     "output_type": "stream",
     "text": [
      "Epoch 1/10\n",
      "77/77 [==============================] - 5s 51ms/step - loss: 0.4575 - accuracy: 0.7627 - val_loss: 0.2234 - val_accuracy: 0.9164\n",
      "Epoch 2/10\n",
      "77/77 [==============================] - 4s 47ms/step - loss: 0.0893 - accuracy: 0.9733 - val_loss: 0.1293 - val_accuracy: 0.9525\n",
      "Epoch 3/10\n",
      "77/77 [==============================] - 4s 47ms/step - loss: 0.0193 - accuracy: 0.9955 - val_loss: 0.1858 - val_accuracy: 0.9574\n",
      "Epoch 4/10\n",
      "77/77 [==============================] - 4s 49ms/step - loss: 0.0100 - accuracy: 0.9971 - val_loss: 0.1794 - val_accuracy: 0.9590\n",
      "Epoch 5/10\n",
      "77/77 [==============================] - 4s 49ms/step - loss: 0.0068 - accuracy: 0.9996 - val_loss: 0.1918 - val_accuracy: 0.9557\n",
      "Epoch 6/10\n",
      "77/77 [==============================] - 4s 50ms/step - loss: 0.0070 - accuracy: 0.9992 - val_loss: 0.1789 - val_accuracy: 0.9557\n",
      "Epoch 7/10\n",
      "77/77 [==============================] - 4s 47ms/step - loss: 0.0085 - accuracy: 0.9992 - val_loss: 0.1775 - val_accuracy: 0.9607\n",
      "Epoch 8/10\n",
      "77/77 [==============================] - 4s 54ms/step - loss: 0.0108 - accuracy: 0.9988 - val_loss: 0.1528 - val_accuracy: 0.9574\n",
      "Epoch 9/10\n",
      "77/77 [==============================] - 4s 53ms/step - loss: 0.0048 - accuracy: 0.9992 - val_loss: 0.1751 - val_accuracy: 0.9574\n",
      "Epoch 10/10\n",
      "77/77 [==============================] - 4s 51ms/step - loss: 0.0048 - accuracy: 0.9996 - val_loss: 0.2259 - val_accuracy: 0.9541\n"
     ]
    }
   ],
   "source": [
    "# Train the model\n",
    "history = model.fit(X_train_pad, y_train, epochs=10, batch_size=32, validation_data=(X_test_pad, y_test))"
   ]
  },
  {
   "cell_type": "markdown",
   "id": "89b8099c",
   "metadata": {},
   "source": [
    "6. Evaluate"
   ]
  },
  {
   "cell_type": "code",
   "execution_count": 206,
   "id": "3479494b",
   "metadata": {},
   "outputs": [
    {
     "name": "stdout",
     "output_type": "stream",
     "text": [
      "20/20 [==============================] - 0s 13ms/step - loss: 0.2259 - accuracy: 0.9541\n",
      "Test Accuracy: 0.9540983438491821\n"
     ]
    }
   ],
   "source": [
    "# Evaluate the model\n",
    "loss, accuracy = model.evaluate(X_test_pad, y_test)\n",
    "print(f'Test Accuracy: {accuracy}')"
   ]
  },
  {
   "cell_type": "code",
   "execution_count": 207,
   "id": "3ddbe053",
   "metadata": {},
   "outputs": [
    {
     "name": "stdout",
     "output_type": "stream",
     "text": [
      "20/20 [==============================] - 0s 13ms/step\n"
     ]
    }
   ],
   "source": [
    "# Predict on test data\n",
    "y_pred = (model.predict(X_test_pad) > 0.5).astype(\"int32\")"
   ]
  },
  {
   "cell_type": "code",
   "execution_count": 208,
   "id": "d407ecdf",
   "metadata": {},
   "outputs": [
    {
     "name": "stdout",
     "output_type": "stream",
     "text": [
      "              precision    recall  f1-score   support\n",
      "\n",
      "           0       0.98      0.93      0.96       330\n",
      "           1       0.93      0.98      0.95       280\n",
      "\n",
      "    accuracy                           0.95       610\n",
      "   macro avg       0.95      0.96      0.95       610\n",
      "weighted avg       0.96      0.95      0.95       610\n",
      "\n"
     ]
    }
   ],
   "source": [
    "# Classification report\n",
    "from sklearn.metrics import classification_report\n",
    "print(classification_report(y_test, y_pred))"
   ]
  },
  {
   "cell_type": "markdown",
   "id": "857083ab",
   "metadata": {},
   "source": [
    "7. Plot Performance"
   ]
  },
  {
   "cell_type": "code",
   "execution_count": 209,
   "id": "ce8f0e17",
   "metadata": {},
   "outputs": [
    {
     "data": {
      "image/png": "[encoded data removed]",
      "text/plain": [
       "<Figure size 640x480 with 1 Axes>"
      ]
     },
     "metadata": {},
     "output_type": "display_data"
    }
   ],
   "source": [
    "# Plotting the training history\n",
    "import matplotlib.pyplot as plt\n",
    "\n",
    "plt.plot(history.history['accuracy'], label='accuracy')\n",
    "plt.plot(history.history['val_accuracy'], label='val_accuracy')\n",
    "plt.xlabel('Epoch')\n",
    "plt.ylabel('Accuracy')\n",
    "plt.ylim([0, 1])\n",
    "plt.legend(loc='lower right')\n",
    "plt.show()"
   ]
  },
  {
   "cell_type": "code",
   "execution_count": 210,
   "id": "995c8706",
   "metadata": {},
   "outputs": [
    {
     "data": {
      "image/png": "[encoded data removed]",
      "text/plain": [
       "<Figure size 640x480 with 1 Axes>"
      ]
     },
     "metadata": {},
     "output_type": "display_data"
    }
   ],
   "source": [
    "# try this, this is for loss\n",
    "# import matplotlib.pyplot as plt\n",
    "\n",
    "plt.plot(history.history['loss'], label='loss')\n",
    "plt.plot(history.history['val_loss'], label='val_loss')\n",
    "plt.xlabel('Epoch')\n",
    "plt.ylabel(' Loss')\n",
    "plt.ylim([0, 1])\n",
    "plt.legend(loc='lower right')\n",
    "plt.show()\n",
    "\n",
    "#this plot shows the training loss and validation loss of the CNN model over 10 epochs."
   ]
  },
  {
   "cell_type": "markdown",
   "id": "84495786",
   "metadata": {},
   "source": [
    "Outro:\n",
    "\n",
    "\n",
    "The CNN model demonstrates excellent performance in classifying emails as spam or ham, with high precision, recall, and F1-scores across both classes. The high accuracy of 95.41% on the test data confirms the model's effectiveness in distinguishing between spam and non-spam emails. This model can be a valuable tool for email filtering, helping to reduce the amount of unwanted spam in users inboxes.\n"
   ]
  },
  {
   "cell_type": "markdown",
   "id": "5e99718b",
   "metadata": {},
   "source": [
    "But through the execution of the plot, I've noticed there is overfitting, so I need to do something to modify this."
   ]
  },
  {
   "cell_type": "markdown",
   "id": "cdfb467c",
   "metadata": {},
   "source": [
    "_______________________________________________________________________________"
   ]
  },
  {
   "cell_type": "markdown",
   "id": "78e1ead9",
   "metadata": {},
   "source": [
    "There is overfitting and I will try some things to reduce it"
   ]
  },
  {
   "cell_type": "code",
   "execution_count": 184,
   "id": "afd746df",
   "metadata": {},
   "outputs": [],
   "source": [
    "from tensorflow.keras.regularizers import l2\n",
    "\n",
    "model = Sequential([\n",
    "    Embedding(10000, 128, input_length=max_length),\n",
    "    Conv1D(128, 5, activation='relu', kernel_regularizer=l2(0.01)),\n",
    "    MaxPooling1D(pool_size=2),\n",
    "    Conv1D(128, 5, activation='relu', kernel_regularizer=l2(0.01)),\n",
    "    GlobalMaxPooling1D(),\n",
    "    Dense(128, activation='relu', kernel_regularizer=l2(0.01)),\n",
    "    Dropout(0.5),\n",
    "    Dense(1, activation='sigmoid', kernel_regularizer=l2(0.01))\n",
    "])"
   ]
  },
  {
   "cell_type": "code",
   "execution_count": 185,
   "id": "f217178c",
   "metadata": {},
   "outputs": [],
   "source": [
    "# Compile the model\n",
    "model.compile(optimizer='adam', loss='binary_crossentropy', metrics=['accuracy'])\n"
   ]
  },
  {
   "cell_type": "code",
   "execution_count": 186,
   "id": "8c0285fd",
   "metadata": {},
   "outputs": [
    {
     "name": "stdout",
     "output_type": "stream",
     "text": [
      "Epoch 1/10\n",
      "77/77 [==============================] - 6s 57ms/step - loss: 2.0178 - accuracy: 0.5521 - val_loss: 0.9466 - val_accuracy: 0.5410\n",
      "Epoch 2/10\n",
      "77/77 [==============================] - 4s 51ms/step - loss: 0.6156 - accuracy: 0.8005 - val_loss: 0.3641 - val_accuracy: 0.9344\n",
      "Epoch 3/10\n",
      "77/77 [==============================] - 4s 52ms/step - loss: 0.2851 - accuracy: 0.9594 - val_loss: 0.3550 - val_accuracy: 0.9213\n",
      "Epoch 4/10\n",
      "77/77 [==============================] - 4s 52ms/step - loss: 0.2197 - accuracy: 0.9807 - val_loss: 0.2669 - val_accuracy: 0.9541\n",
      "Epoch 5/10\n",
      "77/77 [==============================] - 4s 51ms/step - loss: 0.1852 - accuracy: 0.9885 - val_loss: 0.2874 - val_accuracy: 0.9410\n",
      "Epoch 6/10\n",
      "77/77 [==============================] - 4s 50ms/step - loss: 0.1607 - accuracy: 0.9930 - val_loss: 0.2545 - val_accuracy: 0.9508\n",
      "Epoch 7/10\n",
      "77/77 [==============================] - 4s 51ms/step - loss: 0.1468 - accuracy: 0.9971 - val_loss: 0.2511 - val_accuracy: 0.9541\n",
      "Epoch 8/10\n",
      "77/77 [==============================] - 4s 50ms/step - loss: 0.1418 - accuracy: 0.9975 - val_loss: 0.2504 - val_accuracy: 0.9541\n",
      "Epoch 9/10\n",
      "77/77 [==============================] - 4s 51ms/step - loss: 0.1348 - accuracy: 0.9992 - val_loss: 0.2528 - val_accuracy: 0.9459\n",
      "Epoch 10/10\n",
      "77/77 [==============================] - 4s 51ms/step - loss: 0.1331 - accuracy: 0.9984 - val_loss: 0.2477 - val_accuracy: 0.9508\n"
     ]
    }
   ],
   "source": [
    "# Train the model\n",
    "history = model.fit(X_train_pad, y_train, epochs=10, batch_size=32, validation_data=(X_test_pad, y_test))"
   ]
  },
  {
   "cell_type": "code",
   "execution_count": 187,
   "id": "856c00f9",
   "metadata": {},
   "outputs": [
    {
     "name": "stdout",
     "output_type": "stream",
     "text": [
      "20/20 [==============================] - 0s 15ms/step - loss: 0.2477 - accuracy: 0.9508\n",
      "Test Accuracy: 0.9508196711540222\n"
     ]
    }
   ],
   "source": [
    "# Evaluate the model\n",
    "loss, accuracy = model.evaluate(X_test_pad, y_test)\n",
    "print(f'Test Accuracy: {accuracy}')"
   ]
  },
  {
   "cell_type": "code",
   "execution_count": 188,
   "id": "7dfd0755",
   "metadata": {},
   "outputs": [
    {
     "name": "stdout",
     "output_type": "stream",
     "text": [
      "20/20 [==============================] - 0s 13ms/step\n"
     ]
    }
   ],
   "source": [
    "# Predict on test data\n",
    "y_pred = (model.predict(X_test_pad) > 0.5).astype(\"int32\")"
   ]
  },
  {
   "cell_type": "code",
   "execution_count": 189,
   "id": "156f474e",
   "metadata": {},
   "outputs": [
    {
     "name": "stdout",
     "output_type": "stream",
     "text": [
      "              precision    recall  f1-score   support\n",
      "\n",
      "           0       0.97      0.94      0.95       330\n",
      "           1       0.93      0.96      0.95       280\n",
      "\n",
      "    accuracy                           0.95       610\n",
      "   macro avg       0.95      0.95      0.95       610\n",
      "weighted avg       0.95      0.95      0.95       610\n",
      "\n"
     ]
    }
   ],
   "source": [
    "# Classification report\n",
    "from sklearn.metrics import classification_report\n",
    "print(classification_report(y_test, y_pred))"
   ]
  },
  {
   "cell_type": "code",
   "execution_count": 190,
   "id": "924e5d35",
   "metadata": {},
   "outputs": [
    {
     "data": {
      "image/png": "[encoded data removed]",
      "text/plain": [
       "<Figure size 640x480 with 1 Axes>"
      ]
     },
     "metadata": {},
     "output_type": "display_data"
    }
   ],
   "source": [
    "# Plotting the training history\n",
    "import matplotlib.pyplot as plt\n",
    "\n",
    "plt.plot(history.history['accuracy'], label='accuracy')\n",
    "plt.plot(history.history['val_accuracy'], label='val_accuracy')\n",
    "plt.xlabel('Epoch')\n",
    "plt.ylabel('Accuracy')\n",
    "plt.ylim([0, 1])\n",
    "plt.legend(loc='lower right')\n",
    "plt.show()"
   ]
  },
  {
   "cell_type": "code",
   "execution_count": 191,
   "id": "774b3e8e",
   "metadata": {},
   "outputs": [
    {
     "data": {
      "image/png": "[encoded data removed]",
      "text/plain": [
       "<Figure size 640x480 with 1 Axes>"
      ]
     },
     "metadata": {},
     "output_type": "display_data"
    }
   ],
   "source": [
    "# try this, this is for loss\n",
    "# import matplotlib.pyplot as plt\n",
    "\n",
    "plt.plot(history.history['loss'], label='loss')\n",
    "plt.plot(history.history['val_loss'], label='val_loss')\n",
    "plt.xlabel('Epoch')\n",
    "plt.ylabel(' Loss')\n",
    "plt.ylim([0, 1])\n",
    "plt.legend(loc='lower right')\n",
    "plt.show()\n",
    "\n",
    "#this plot shows the training loss and validation loss of the CNN model over 10 epochs."
   ]
  },
  {
   "cell_type": "markdown",
   "id": "831a2940",
   "metadata": {},
   "source": [
    "socond thing I will do it:"
   ]
  },
  {
   "cell_type": "code",
   "execution_count": 192,
   "id": "35d5e30d",
   "metadata": {},
   "outputs": [],
   "source": [
    "from tensorflow.keras.layers import BatchNormalization\n",
    "\n",
    "model = Sequential([\n",
    "    Embedding(10000, 128, input_length=max_length),\n",
    "    Conv1D(128, 5, activation='relu', kernel_regularizer=l2(0.01)),\n",
    "    BatchNormalization(),\n",
    "    MaxPooling1D(pool_size=2),\n",
    "    Conv1D(128, 5, activation='relu', kernel_regularizer=l2(0.01)),\n",
    "    BatchNormalization(),\n",
    "    GlobalMaxPooling1D(),\n",
    "    Dense(128, activation='relu', kernel_regularizer=l2(0.01)),\n",
    "    Dropout(0.5),\n",
    "    Dense(1, activation='sigmoid', kernel_regularizer=l2(0.01))\n",
    "])"
   ]
  },
  {
   "cell_type": "code",
   "execution_count": 193,
   "id": "675ff4e1",
   "metadata": {},
   "outputs": [],
   "source": [
    "# Compile the model\n",
    "model.compile(optimizer='adam', loss='binary_crossentropy', metrics=['accuracy'])\n"
   ]
  },
  {
   "cell_type": "code",
   "execution_count": 194,
   "id": "72fc31d2",
   "metadata": {},
   "outputs": [
    {
     "name": "stdout",
     "output_type": "stream",
     "text": [
      "Epoch 1/20\n",
      "77/77 [==============================] - 9s 76ms/step - loss: 3.9211 - accuracy: 0.8202 - val_loss: 3.6932 - val_accuracy: 0.5590\n",
      "Epoch 2/20\n",
      "77/77 [==============================] - 5s 70ms/step - loss: 2.6938 - accuracy: 0.9848 - val_loss: 2.9349 - val_accuracy: 0.5607\n",
      "Epoch 3/20\n",
      "77/77 [==============================] - 5s 67ms/step - loss: 2.0258 - accuracy: 0.9914 - val_loss: 2.3645 - val_accuracy: 0.9082\n",
      "Epoch 4/20\n",
      "77/77 [==============================] - 5s 62ms/step - loss: 1.6155 - accuracy: 0.9795 - val_loss: 1.9525 - val_accuracy: 0.9246\n",
      "Epoch 5/20\n",
      "77/77 [==============================] - 5s 60ms/step - loss: 1.3117 - accuracy: 0.9828 - val_loss: 1.5892 - val_accuracy: 0.9541\n",
      "Epoch 6/20\n",
      "77/77 [==============================] - 5s 62ms/step - loss: 1.0038 - accuracy: 0.9922 - val_loss: 1.2036 - val_accuracy: 0.9557\n",
      "Epoch 7/20\n",
      "77/77 [==============================] - 5s 59ms/step - loss: 0.7622 - accuracy: 0.9988 - val_loss: 0.8722 - val_accuracy: 0.9607\n",
      "Epoch 8/20\n",
      "77/77 [==============================] - 5s 59ms/step - loss: 0.5746 - accuracy: 0.9971 - val_loss: 0.6773 - val_accuracy: 0.9443\n",
      "Epoch 9/20\n",
      "77/77 [==============================] - 5s 60ms/step - loss: 0.4452 - accuracy: 0.9979 - val_loss: 0.5083 - val_accuracy: 0.9607\n",
      "Epoch 10/20\n",
      "77/77 [==============================] - 5s 63ms/step - loss: 0.3355 - accuracy: 0.9988 - val_loss: 0.4047 - val_accuracy: 0.9590\n",
      "Epoch 11/20\n",
      "77/77 [==============================] - 5s 63ms/step - loss: 0.2611 - accuracy: 0.9984 - val_loss: 0.3259 - val_accuracy: 0.9689\n",
      "Epoch 12/20\n",
      "77/77 [==============================] - 5s 63ms/step - loss: 0.2313 - accuracy: 0.9943 - val_loss: 0.3475 - val_accuracy: 0.9590\n",
      "Epoch 13/20\n",
      "77/77 [==============================] - 5s 63ms/step - loss: 0.2279 - accuracy: 0.9897 - val_loss: 0.4036 - val_accuracy: 0.9525\n",
      "Epoch 14/20\n",
      "77/77 [==============================] - 5s 66ms/step - loss: 0.1994 - accuracy: 0.9943 - val_loss: 0.3767 - val_accuracy: 0.9475\n"
     ]
    }
   ],
   "source": [
    "from tensorflow.keras.callbacks import EarlyStopping\n",
    "\n",
    "early_stopping = EarlyStopping(monitor='val_loss', patience=3, restore_best_weights=True)\n",
    "history = model.fit(X_train_pad, y_train, epochs=20, batch_size=32, validation_data=(X_test_pad, y_test), callbacks=[early_stopping])\n"
   ]
  },
  {
   "cell_type": "code",
   "execution_count": 195,
   "id": "ff442620",
   "metadata": {},
   "outputs": [
    {
     "name": "stdout",
     "output_type": "stream",
     "text": [
      "20/20 [==============================] - 0s 15ms/step - loss: 0.3259 - accuracy: 0.9689\n",
      "Test Accuracy: 0.9688524603843689\n"
     ]
    }
   ],
   "source": [
    "# Evaluate the model\n",
    "loss, accuracy = model.evaluate(X_test_pad, y_test)\n",
    "print(f'Test Accuracy: {accuracy}')"
   ]
  },
  {
   "cell_type": "code",
   "execution_count": 196,
   "id": "d7e174d7",
   "metadata": {},
   "outputs": [
    {
     "name": "stdout",
     "output_type": "stream",
     "text": [
      "20/20 [==============================] - 1s 15ms/step\n"
     ]
    }
   ],
   "source": [
    "# Predict on test data\n",
    "y_pred = (model.predict(X_test_pad) > 0.5).astype(\"int32\")"
   ]
  },
  {
   "cell_type": "code",
   "execution_count": 197,
   "id": "b603d457",
   "metadata": {},
   "outputs": [
    {
     "name": "stdout",
     "output_type": "stream",
     "text": [
      "              precision    recall  f1-score   support\n",
      "\n",
      "           0       0.97      0.97      0.97       330\n",
      "           1       0.97      0.96      0.97       280\n",
      "\n",
      "    accuracy                           0.97       610\n",
      "   macro avg       0.97      0.97      0.97       610\n",
      "weighted avg       0.97      0.97      0.97       610\n",
      "\n"
     ]
    }
   ],
   "source": [
    "# Classification report\n",
    "from sklearn.metrics import classification_report\n",
    "print(classification_report(y_test, y_pred))"
   ]
  },
  {
   "cell_type": "code",
   "execution_count": 198,
   "id": "3c6c34a8",
   "metadata": {},
   "outputs": [
    {
     "data": {
      "image/png": "[encoded data removed]",
      "text/plain": [
       "<Figure size 640x480 with 1 Axes>"
      ]
     },
     "metadata": {},
     "output_type": "display_data"
    }
   ],
   "source": [
    "# Plotting the training history\n",
    "# drop out to be more noisy to be correct\n",
    "import matplotlib.pyplot as plt\n",
    "\n",
    "plt.plot(history.history['accuracy'], label='accuracy')\n",
    "plt.plot(history.history['val_accuracy'], label='val_accuracy')\n",
    "plt.xlabel('Epoch')\n",
    "plt.ylabel('Accuracy')\n",
    "plt.ylim([0, 1])\n",
    "plt.legend(loc='lower right')\n",
    "plt.show()"
   ]
  },
  {
   "cell_type": "code",
   "execution_count": 199,
   "id": "8c8acad0",
   "metadata": {},
   "outputs": [
    {
     "data": {
      "image/png": "[encoded data removed]",
      "text/plain": [
       "<Figure size 640x480 with 1 Axes>"
      ]
     },
     "metadata": {},
     "output_type": "display_data"
    }
   ],
   "source": [
    "import matplotlib.pyplot as plt\n",
    "\n",
    "plt.plot(history.history['loss'], label='loss')\n",
    "plt.plot(history.history['val_loss'], label='val_loss')\n",
    "plt.xlabel('Epoch')\n",
    "plt.ylabel(' Loss')\n",
    "plt.ylim([0, 1])\n",
    "plt.legend(loc='lower right')\n",
    "plt.show()\n"
   ]
  },
  {
   "cell_type": "code",
   "execution_count": 200,
   "id": "e01f36b8",
   "metadata": {},
   "outputs": [],
   "source": [
    "# Function to predict if an email is spam or not\n",
    "def predict_spam(email):\n",
    "    cleaned_email = cleaner.transform([email])\n",
    "    seq = tokenizer.texts_to_sequences(cleaned_email)\n",
    "    pad_seq = pad_sequences(seq, maxlen=max_length, padding='post', truncating='post')\n",
    "    prediction = model.predict(pad_seq)\n",
    "    return 'spam' if prediction[0][0] > 0.5 else 'ham'"
   ]
  },
  {
   "cell_type": "code",
   "execution_count": 201,
   "id": "7111a708",
   "metadata": {},
   "outputs": [
    {
     "name": "stdout",
     "output_type": "stream",
     "text": [
      "1/1 [==============================] - 0s 51ms/step\n",
      "spam\n"
     ]
    }
   ],
   "source": [
    "# Example usage\n",
    "email_example = spam_df.email[100]\n",
    "print(predict_spam(email_example))"
   ]
  },
  {
   "cell_type": "code",
   "execution_count": 202,
   "id": "e36a411c",
   "metadata": {},
   "outputs": [
    {
     "name": "stdout",
     "output_type": "stream",
     "text": [
      "1/1 [==============================] - 0s 40ms/step\n",
      "ham\n"
     ]
    }
   ],
   "source": [
    "# Example usage\n",
    "email_example = easy_ham_df.email[100]\n",
    "print(predict_spam(email_example))"
   ]
  }
 ],
 "metadata": {
  "kernelspec": {
   "display_name": "Python 3 (ipykernel)",
   "language": "python",
   "name": "python3"
  },
  "language_info": {
   "codemirror_mode": {
    "name": "ipython",
    "version": 3
   },
   "file_extension": ".py",
   "mimetype": "text/x-python",
   "name": "python",
   "nbconvert_exporter": "python",
   "pygments_lexer": "ipython3",
   "version": "3.10.9"
  }
 },
 "nbformat": 4,
 "nbformat_minor": 5
}
